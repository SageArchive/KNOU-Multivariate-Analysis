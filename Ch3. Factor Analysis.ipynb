{
 "cells": [
  {
   "cell_type": "code",
   "execution_count": 1,
   "id": "efb4bc3d",
   "metadata": {},
   "outputs": [
    {
     "data": {
      "text/html": [
       "<div>\n",
       "<style scoped>\n",
       "    .dataframe tbody tr th:only-of-type {\n",
       "        vertical-align: middle;\n",
       "    }\n",
       "\n",
       "    .dataframe tbody tr th {\n",
       "        vertical-align: top;\n",
       "    }\n",
       "\n",
       "    .dataframe thead th {\n",
       "        text-align: right;\n",
       "    }\n",
       "</style>\n",
       "<table border=\"1\" class=\"dataframe\">\n",
       "  <thead>\n",
       "    <tr style=\"text-align: right;\">\n",
       "      <th></th>\n",
       "      <th>lung</th>\n",
       "      <th>muscle</th>\n",
       "      <th>liver</th>\n",
       "      <th>skeleton</th>\n",
       "      <th>kidneys</th>\n",
       "      <th>heart</th>\n",
       "      <th>step</th>\n",
       "      <th>stamina</th>\n",
       "      <th>stretch</th>\n",
       "      <th>blow</th>\n",
       "      <th>urine</th>\n",
       "    </tr>\n",
       "  </thead>\n",
       "  <tbody>\n",
       "    <tr>\n",
       "      <th>0</th>\n",
       "      <td>20</td>\n",
       "      <td>16</td>\n",
       "      <td>52</td>\n",
       "      <td>10</td>\n",
       "      <td>24</td>\n",
       "      <td>23</td>\n",
       "      <td>19</td>\n",
       "      <td>20</td>\n",
       "      <td>23</td>\n",
       "      <td>29</td>\n",
       "      <td>67</td>\n",
       "    </tr>\n",
       "    <tr>\n",
       "      <th>1</th>\n",
       "      <td>24</td>\n",
       "      <td>16</td>\n",
       "      <td>52</td>\n",
       "      <td>7</td>\n",
       "      <td>27</td>\n",
       "      <td>16</td>\n",
       "      <td>16</td>\n",
       "      <td>15</td>\n",
       "      <td>31</td>\n",
       "      <td>33</td>\n",
       "      <td>59</td>\n",
       "    </tr>\n",
       "    <tr>\n",
       "      <th>2</th>\n",
       "      <td>19</td>\n",
       "      <td>21</td>\n",
       "      <td>57</td>\n",
       "      <td>18</td>\n",
       "      <td>22</td>\n",
       "      <td>23</td>\n",
       "      <td>16</td>\n",
       "      <td>19</td>\n",
       "      <td>42</td>\n",
       "      <td>40</td>\n",
       "      <td>61</td>\n",
       "    </tr>\n",
       "  </tbody>\n",
       "</table>\n",
       "</div>"
      ],
      "text/plain": [
       "   lung  muscle  liver  skeleton  kidneys  heart  step  stamina  stretch  \\\n",
       "0    20      16     52        10       24     23    19       20       23   \n",
       "1    24      16     52         7       27     16    16       15       31   \n",
       "2    19      21     57        18       22     23    16       19       42   \n",
       "\n",
       "   blow  urine  \n",
       "0    29     67  \n",
       "1    33     59  \n",
       "2    40     61  "
      ]
     },
     "execution_count": 1,
     "metadata": {},
     "output_type": "execute_result"
    }
   ],
   "source": [
    "import pandas as pd\n",
    "import numpy as np\n",
    "import matplotlib.pyplot as plt\n",
    "# 데이터 읽기\n",
    "med = pd.read_csv(\"c:/data/mva/medFactor.csv\")\n",
    "med.head(3)"
   ]
  },
  {
   "cell_type": "code",
   "execution_count": 2,
   "id": "26d02138",
   "metadata": {},
   "outputs": [
    {
     "data": {
      "text/html": [
       "<div>\n",
       "<style scoped>\n",
       "    .dataframe tbody tr th:only-of-type {\n",
       "        vertical-align: middle;\n",
       "    }\n",
       "\n",
       "    .dataframe tbody tr th {\n",
       "        vertical-align: top;\n",
       "    }\n",
       "\n",
       "    .dataframe thead th {\n",
       "        text-align: right;\n",
       "    }\n",
       "</style>\n",
       "<table border=\"1\" class=\"dataframe\">\n",
       "  <thead>\n",
       "    <tr style=\"text-align: right;\">\n",
       "      <th></th>\n",
       "      <th>lung</th>\n",
       "      <th>muscle</th>\n",
       "      <th>liver</th>\n",
       "      <th>skeleton</th>\n",
       "      <th>kidneys</th>\n",
       "      <th>heart</th>\n",
       "      <th>step</th>\n",
       "      <th>stamina</th>\n",
       "      <th>stretch</th>\n",
       "      <th>blow</th>\n",
       "      <th>urine</th>\n",
       "    </tr>\n",
       "  </thead>\n",
       "  <tbody>\n",
       "    <tr>\n",
       "      <th>count</th>\n",
       "      <td>128.000000</td>\n",
       "      <td>128.000000</td>\n",
       "      <td>128.000000</td>\n",
       "      <td>128.000000</td>\n",
       "      <td>128.000000</td>\n",
       "      <td>128.000000</td>\n",
       "      <td>128.000000</td>\n",
       "      <td>128.000000</td>\n",
       "      <td>128.000000</td>\n",
       "      <td>128.000000</td>\n",
       "      <td>128.000000</td>\n",
       "    </tr>\n",
       "    <tr>\n",
       "      <th>mean</th>\n",
       "      <td>19.960938</td>\n",
       "      <td>18.820312</td>\n",
       "      <td>54.695312</td>\n",
       "      <td>12.867188</td>\n",
       "      <td>25.640625</td>\n",
       "      <td>23.179688</td>\n",
       "      <td>16.171875</td>\n",
       "      <td>15.867188</td>\n",
       "      <td>38.812500</td>\n",
       "      <td>33.539062</td>\n",
       "      <td>66.906250</td>\n",
       "    </tr>\n",
       "    <tr>\n",
       "      <th>std</th>\n",
       "      <td>4.464034</td>\n",
       "      <td>4.088458</td>\n",
       "      <td>7.428990</td>\n",
       "      <td>2.986508</td>\n",
       "      <td>3.805786</td>\n",
       "      <td>4.159106</td>\n",
       "      <td>2.478599</td>\n",
       "      <td>2.651314</td>\n",
       "      <td>7.798395</td>\n",
       "      <td>4.097055</td>\n",
       "      <td>12.565067</td>\n",
       "    </tr>\n",
       "    <tr>\n",
       "      <th>min</th>\n",
       "      <td>4.000000</td>\n",
       "      <td>9.000000</td>\n",
       "      <td>26.000000</td>\n",
       "      <td>3.000000</td>\n",
       "      <td>16.000000</td>\n",
       "      <td>11.000000</td>\n",
       "      <td>4.000000</td>\n",
       "      <td>7.000000</td>\n",
       "      <td>16.000000</td>\n",
       "      <td>17.000000</td>\n",
       "      <td>9.000000</td>\n",
       "    </tr>\n",
       "    <tr>\n",
       "      <th>25%</th>\n",
       "      <td>17.000000</td>\n",
       "      <td>16.000000</td>\n",
       "      <td>50.750000</td>\n",
       "      <td>11.000000</td>\n",
       "      <td>23.000000</td>\n",
       "      <td>22.000000</td>\n",
       "      <td>15.000000</td>\n",
       "      <td>14.000000</td>\n",
       "      <td>34.000000</td>\n",
       "      <td>32.000000</td>\n",
       "      <td>59.000000</td>\n",
       "    </tr>\n",
       "    <tr>\n",
       "      <th>50%</th>\n",
       "      <td>20.000000</td>\n",
       "      <td>19.000000</td>\n",
       "      <td>55.000000</td>\n",
       "      <td>13.000000</td>\n",
       "      <td>26.000000</td>\n",
       "      <td>23.000000</td>\n",
       "      <td>17.000000</td>\n",
       "      <td>16.000000</td>\n",
       "      <td>40.000000</td>\n",
       "      <td>34.000000</td>\n",
       "      <td>67.000000</td>\n",
       "    </tr>\n",
       "    <tr>\n",
       "      <th>75%</th>\n",
       "      <td>23.000000</td>\n",
       "      <td>22.000000</td>\n",
       "      <td>60.250000</td>\n",
       "      <td>15.000000</td>\n",
       "      <td>29.000000</td>\n",
       "      <td>25.000000</td>\n",
       "      <td>18.000000</td>\n",
       "      <td>18.000000</td>\n",
       "      <td>45.000000</td>\n",
       "      <td>36.000000</td>\n",
       "      <td>76.000000</td>\n",
       "    </tr>\n",
       "    <tr>\n",
       "      <th>max</th>\n",
       "      <td>29.000000</td>\n",
       "      <td>28.000000</td>\n",
       "      <td>69.000000</td>\n",
       "      <td>19.000000</td>\n",
       "      <td>32.000000</td>\n",
       "      <td>56.000000</td>\n",
       "      <td>20.000000</td>\n",
       "      <td>20.000000</td>\n",
       "      <td>51.000000</td>\n",
       "      <td>41.000000</td>\n",
       "      <td>93.000000</td>\n",
       "    </tr>\n",
       "  </tbody>\n",
       "</table>\n",
       "</div>"
      ],
      "text/plain": [
       "             lung      muscle       liver    skeleton     kidneys       heart  \\\n",
       "count  128.000000  128.000000  128.000000  128.000000  128.000000  128.000000   \n",
       "mean    19.960938   18.820312   54.695312   12.867188   25.640625   23.179688   \n",
       "std      4.464034    4.088458    7.428990    2.986508    3.805786    4.159106   \n",
       "min      4.000000    9.000000   26.000000    3.000000   16.000000   11.000000   \n",
       "25%     17.000000   16.000000   50.750000   11.000000   23.000000   22.000000   \n",
       "50%     20.000000   19.000000   55.000000   13.000000   26.000000   23.000000   \n",
       "75%     23.000000   22.000000   60.250000   15.000000   29.000000   25.000000   \n",
       "max     29.000000   28.000000   69.000000   19.000000   32.000000   56.000000   \n",
       "\n",
       "             step     stamina     stretch        blow       urine  \n",
       "count  128.000000  128.000000  128.000000  128.000000  128.000000  \n",
       "mean    16.171875   15.867188   38.812500   33.539062   66.906250  \n",
       "std      2.478599    2.651314    7.798395    4.097055   12.565067  \n",
       "min      4.000000    7.000000   16.000000   17.000000    9.000000  \n",
       "25%     15.000000   14.000000   34.000000   32.000000   59.000000  \n",
       "50%     17.000000   16.000000   40.000000   34.000000   67.000000  \n",
       "75%     18.000000   18.000000   45.000000   36.000000   76.000000  \n",
       "max     20.000000   20.000000   51.000000   41.000000   93.000000  "
      ]
     },
     "execution_count": 2,
     "metadata": {},
     "output_type": "execute_result"
    }
   ],
   "source": [
    "# 기술통계량 구하기\n",
    "med.describe()"
   ]
  },
  {
   "cell_type": "code",
   "execution_count": 3,
   "id": "e8e6b2fa",
   "metadata": {},
   "outputs": [
    {
     "data": {
      "text/plain": [
       "(341.2089876475221, 6.4362758343486854e-43)"
      ]
     },
     "execution_count": 3,
     "metadata": {},
     "output_type": "execute_result"
    }
   ],
   "source": [
    "# 인자분석 적정성 검정\n",
    "from factor_analyzer.factor_analyzer import calculate_bartlett_sphericity\n",
    "chi_square_value,p_value=calculate_bartlett_sphericity(med)\n",
    "chi_square_value, p_value\n",
    "# p_value가 매우 작은 값을 가지므로 귀무가설 기각, 통계적으로 유의"
   ]
  },
  {
   "cell_type": "code",
   "execution_count": 4,
   "id": "9ce2f197",
   "metadata": {},
   "outputs": [
    {
     "data": {
      "text/plain": [
       "0.6840306201730828"
      ]
     },
     "execution_count": 4,
     "metadata": {},
     "output_type": "execute_result"
    }
   ],
   "source": [
    "from factor_analyzer.factor_analyzer import calculate_kmo\n",
    "kmo_all,kmo_model=calculate_kmo(med)\n",
    "kmo_model\n",
    "# 결과 값이 0.68로 0.6보다 크므로 인자분석이 가능"
   ]
  },
  {
   "cell_type": "code",
   "execution_count": 15,
   "id": "9eb766d8",
   "metadata": {},
   "outputs": [
    {
     "data": {
      "text/plain": [
       "array([3.37918137, 1.48277065, 1.25063015, 0.98047706, 0.7688022 ,\n",
       "       0.73305114, 0.64039936, 0.62219335, 0.52837181, 0.35193006,\n",
       "       0.26219284])"
      ]
     },
     "execution_count": 15,
     "metadata": {},
     "output_type": "execute_result"
    }
   ],
   "source": [
    "# 초기 인자분석\n",
    "from factor_analyzer import FactorAnalyzer\n",
    "fa = FactorAnalyzer(rotation=None)\n",
    "# help(FactorAnalyzer): 클래스 코드 보기\n",
    "fa.fit(med)\n",
    "# 고윳값 구하기\n",
    "ev, v = fa.get_eigenvalues()\n",
    "ev"
   ]
  },
  {
   "cell_type": "code",
   "execution_count": 16,
   "id": "f4d1b1f2",
   "metadata": {},
   "outputs": [
    {
     "data": {
      "image/png": "[encoded data removed]",
      "text/plain": [
       "<Figure size 432x288 with 1 Axes>"
      ]
     },
     "metadata": {
      "needs_background": "light"
     },
     "output_type": "display_data"
    }
   ],
   "source": [
    "# 스크리 그림 그리기\n",
    "plt.scatter(range(1, med.shape[1]+1), ev)\n",
    "plt.title('Scree Plot')\n",
    "plt.xlabel('Factors')\n",
    "plt.ylabel('Eigenvalues')\n",
    "plt.grid()\n",
    "plt.show()"
   ]
  },
  {
   "cell_type": "code",
   "execution_count": 18,
   "id": "ed0b5d30",
   "metadata": {},
   "outputs": [
    {
     "data": {
      "text/plain": [
       "array([[ 0.659,  0.123,  0.16 ],\n",
       "       [ 0.111, -0.086,  0.785],\n",
       "       [ 0.783,  0.127,  0.17 ],\n",
       "       [ 0.185,  0.285,  0.763],\n",
       "       [ 0.731,  0.23 , -0.135],\n",
       "       [ 0.646, -0.107,  0.185],\n",
       "       [ 0.486,  0.48 ,  0.102],\n",
       "       [ 0.016,  0.62 ,  0.289],\n",
       "       [ 0.18 ,  0.652,  0.336],\n",
       "       [ 0.264,  0.699, -0.04 ],\n",
       "       [-0.066,  0.649, -0.277]])"
      ]
     },
     "execution_count": 18,
     "metadata": {},
     "output_type": "execute_result"
    }
   ],
   "source": [
    "# 인자분석 – varimax 인자회전\n",
    "fa_varimax = FactorAnalyzer(n_factors=3, rotation='varimax', method='principal')\n",
    "fa_varimax.fit(med)\n",
    "# 인자적재계수\n",
    "np.round(fa_varimax.loadings_, 3)"
   ]
  },
  {
   "cell_type": "code",
   "execution_count": 21,
   "id": "51ac5a0c",
   "metadata": {},
   "outputs": [
    {
     "data": {
      "text/plain": [
       "array([0.475, 0.636, 0.658, 0.698, 0.606, 0.463, 0.478, 0.468, 0.57 ,\n",
       "       0.56 , 0.502])"
      ]
     },
     "execution_count": 21,
     "metadata": {},
     "output_type": "execute_result"
    }
   ],
   "source": [
    "# 인자 공통성(communality)\n",
    "np.round(fa_varimax.get_communalities(), 3)"
   ]
  },
  {
   "cell_type": "code",
   "execution_count": 5,
   "id": "e72a7818",
   "metadata": {},
   "outputs": [
    {
     "ename": "NameError",
     "evalue": "name 'fa_varimax' is not defined",
     "output_type": "error",
     "traceback": [
      "\u001b[1;31m---------------------------------------------------------------------------\u001b[0m",
      "\u001b[1;31mNameError\u001b[0m                                 Traceback (most recent call last)",
      "\u001b[1;32mC:\\Users\\Public\\Documents\\ESTsoft\\CreatorTemp/ipykernel_123868/1652513488.py\u001b[0m in \u001b[0;36m<module>\u001b[1;34m\u001b[0m\n\u001b[0;32m      1\u001b[0m \u001b[1;31m# 인자고유분산: 1-공통성\u001b[0m\u001b[1;33m\u001b[0m\u001b[1;33m\u001b[0m\u001b[0m\n\u001b[1;32m----> 2\u001b[1;33m \u001b[0mnp\u001b[0m\u001b[1;33m.\u001b[0m\u001b[0mround\u001b[0m\u001b[1;33m(\u001b[0m\u001b[0mfa_varimax\u001b[0m\u001b[1;33m.\u001b[0m\u001b[0mget_uniquenesses\u001b[0m\u001b[1;33m(\u001b[0m\u001b[1;33m)\u001b[0m\u001b[1;33m,\u001b[0m \u001b[1;36m3\u001b[0m\u001b[1;33m)\u001b[0m\u001b[1;33m\u001b[0m\u001b[1;33m\u001b[0m\u001b[0m\n\u001b[0m",
      "\u001b[1;31mNameError\u001b[0m: name 'fa_varimax' is not defined"
     ]
    }
   ],
   "source": [
    "# 인자고유분산: 1-공통성\n",
    "np.round(fa_varimax.get_uniquenesses(), 3)"
   ]
  },
  {
   "cell_type": "code",
   "execution_count": null,
   "id": "87853b53",
   "metadata": {},
   "outputs": [],
   "source": [
    "# 인자분산\n",
    "np.round(fa_varimax.get_factor_variance(), 3)"
   ]
  },
  {
   "cell_type": "code",
   "execution_count": null,
   "id": "4dfb0ed4",
   "metadata": {},
   "outputs": [],
   "source": [
    "# Oblimin 인자회전\n",
    "fa_obm = FactorAnalyzer(n_factors=3, rotation='oblimin', method='principal')\n",
    "fa_obm.fit(med)\n",
    "# 인자적재계수\n",
    "fa_obm.loadings_"
   ]
  },
  {
   "cell_type": "code",
   "execution_count": null,
   "id": "658b47a1",
   "metadata": {},
   "outputs": [],
   "source": [
    "# 인자 공통성(communality)\n",
    "fa_obm.get_communalities()"
   ]
  },
  {
   "cell_type": "code",
   "execution_count": null,
   "id": "c1049a37",
   "metadata": {},
   "outputs": [],
   "source": [
    "# 인자고유분산: 1-공통성\n",
    "fa_obm.get_uniquenesses()"
   ]
  },
  {
   "cell_type": "code",
   "execution_count": null,
   "id": "33fb74c1",
   "metadata": {},
   "outputs": [],
   "source": [
    "# 인자분산\n",
    "fa_obm.get_factor_variance()"
   ]
  }
 ],
 "metadata": {
  "kernelspec": {
   "display_name": "Python 3 (ipykernel)",
   "language": "python",
   "name": "python3"
  },
  "language_info": {
   "codemirror_mode": {
    "name": "ipython",
    "version": 3
   },
   "file_extension": ".py",
   "mimetype": "text/x-python",
   "name": "python",
   "nbconvert_exporter": "python",
   "pygments_lexer": "ipython3",
   "version": "3.9.7"
  }
 },
 "nbformat": 4,
 "nbformat_minor": 5
}
