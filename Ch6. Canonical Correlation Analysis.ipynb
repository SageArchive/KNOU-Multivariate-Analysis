{
 "cells": [
  {
   "cell_type": "code",
   "execution_count": 1,
   "id": "b82ba3ae",
   "metadata": {},
   "outputs": [
    {
     "data": {
      "text/html": [
       "<div>\n",
       "<style scoped>\n",
       "    .dataframe tbody tr th:only-of-type {\n",
       "        vertical-align: middle;\n",
       "    }\n",
       "\n",
       "    .dataframe tbody tr th {\n",
       "        vertical-align: top;\n",
       "    }\n",
       "\n",
       "    .dataframe thead th {\n",
       "        text-align: right;\n",
       "    }\n",
       "</style>\n",
       "<table border=\"1\" class=\"dataframe\">\n",
       "  <thead>\n",
       "    <tr style=\"text-align: right;\">\n",
       "      <th></th>\n",
       "      <th>ID</th>\n",
       "      <th>X1</th>\n",
       "      <th>X2</th>\n",
       "      <th>X3</th>\n",
       "      <th>X4</th>\n",
       "      <th>Y1</th>\n",
       "      <th>Y2</th>\n",
       "      <th>Y3</th>\n",
       "    </tr>\n",
       "  </thead>\n",
       "  <tbody>\n",
       "    <tr>\n",
       "      <th>0</th>\n",
       "      <td>1</td>\n",
       "      <td>9</td>\n",
       "      <td>12</td>\n",
       "      <td>9</td>\n",
       "      <td>20</td>\n",
       "      <td>93.0</td>\n",
       "      <td>96.0</td>\n",
       "      <td>97.8</td>\n",
       "    </tr>\n",
       "    <tr>\n",
       "      <th>1</th>\n",
       "      <td>2</td>\n",
       "      <td>7</td>\n",
       "      <td>10</td>\n",
       "      <td>10</td>\n",
       "      <td>15</td>\n",
       "      <td>88.8</td>\n",
       "      <td>91.8</td>\n",
       "      <td>96.8</td>\n",
       "    </tr>\n",
       "    <tr>\n",
       "      <th>2</th>\n",
       "      <td>3</td>\n",
       "      <td>8</td>\n",
       "      <td>12</td>\n",
       "      <td>9</td>\n",
       "      <td>26</td>\n",
       "      <td>95.0</td>\n",
       "      <td>100.3</td>\n",
       "      <td>99.0</td>\n",
       "    </tr>\n",
       "  </tbody>\n",
       "</table>\n",
       "</div>"
      ],
      "text/plain": [
       "   ID  X1  X2  X3  X4    Y1     Y2    Y3\n",
       "0   1   9  12   9  20  93.0   96.0  97.8\n",
       "1   2   7  10  10  15  88.8   91.8  96.8\n",
       "2   3   8  12   9  26  95.0  100.3  99.0"
      ]
     },
     "execution_count": 1,
     "metadata": {},
     "output_type": "execute_result"
    }
   ],
   "source": [
    "import numpy as np\n",
    "import pandas as pd\n",
    "\n",
    "# Importing data\n",
    "sales = pd.read_csv(\"c:/data/mva/sales.csv\")\n",
    "sales.head(3)"
   ]
  },
  {
   "cell_type": "code",
   "execution_count": 2,
   "id": "89b17aab",
   "metadata": {},
   "outputs": [
    {
     "data": {
      "text/html": [
       "<div>\n",
       "<style scoped>\n",
       "    .dataframe tbody tr th:only-of-type {\n",
       "        vertical-align: middle;\n",
       "    }\n",
       "\n",
       "    .dataframe tbody tr th {\n",
       "        vertical-align: top;\n",
       "    }\n",
       "\n",
       "    .dataframe thead th {\n",
       "        text-align: right;\n",
       "    }\n",
       "</style>\n",
       "<table border=\"1\" class=\"dataframe\">\n",
       "  <thead>\n",
       "    <tr style=\"text-align: right;\">\n",
       "      <th></th>\n",
       "      <th>X1</th>\n",
       "      <th>X2</th>\n",
       "      <th>X3</th>\n",
       "      <th>X4</th>\n",
       "      <th>Y1</th>\n",
       "      <th>Y2</th>\n",
       "      <th>Y3</th>\n",
       "    </tr>\n",
       "  </thead>\n",
       "  <tbody>\n",
       "    <tr>\n",
       "      <th>count</th>\n",
       "      <td>50.000000</td>\n",
       "      <td>50.00000</td>\n",
       "      <td>50.000000</td>\n",
       "      <td>50.000000</td>\n",
       "      <td>50.000000</td>\n",
       "      <td>50.000000</td>\n",
       "      <td>50.000000</td>\n",
       "    </tr>\n",
       "    <tr>\n",
       "      <th>mean</th>\n",
       "      <td>11.200000</td>\n",
       "      <td>14.18000</td>\n",
       "      <td>10.560000</td>\n",
       "      <td>29.760000</td>\n",
       "      <td>98.836000</td>\n",
       "      <td>106.622000</td>\n",
       "      <td>102.810000</td>\n",
       "    </tr>\n",
       "    <tr>\n",
       "      <th>std</th>\n",
       "      <td>3.943478</td>\n",
       "      <td>3.38478</td>\n",
       "      <td>2.139617</td>\n",
       "      <td>10.537707</td>\n",
       "      <td>7.337345</td>\n",
       "      <td>10.124315</td>\n",
       "      <td>4.712218</td>\n",
       "    </tr>\n",
       "    <tr>\n",
       "      <th>min</th>\n",
       "      <td>1.000000</td>\n",
       "      <td>5.00000</td>\n",
       "      <td>5.000000</td>\n",
       "      <td>9.000000</td>\n",
       "      <td>81.500000</td>\n",
       "      <td>87.300000</td>\n",
       "      <td>94.300000</td>\n",
       "    </tr>\n",
       "    <tr>\n",
       "      <th>25%</th>\n",
       "      <td>8.250000</td>\n",
       "      <td>12.00000</td>\n",
       "      <td>9.000000</td>\n",
       "      <td>21.500000</td>\n",
       "      <td>93.550000</td>\n",
       "      <td>99.500000</td>\n",
       "      <td>99.075000</td>\n",
       "    </tr>\n",
       "    <tr>\n",
       "      <th>50%</th>\n",
       "      <td>10.000000</td>\n",
       "      <td>15.00000</td>\n",
       "      <td>11.000000</td>\n",
       "      <td>31.500000</td>\n",
       "      <td>100.650000</td>\n",
       "      <td>106.250000</td>\n",
       "      <td>103.150000</td>\n",
       "    </tr>\n",
       "    <tr>\n",
       "      <th>75%</th>\n",
       "      <td>14.000000</td>\n",
       "      <td>17.00000</td>\n",
       "      <td>12.000000</td>\n",
       "      <td>37.000000</td>\n",
       "      <td>105.050000</td>\n",
       "      <td>114.750000</td>\n",
       "      <td>106.450000</td>\n",
       "    </tr>\n",
       "    <tr>\n",
       "      <th>max</th>\n",
       "      <td>18.000000</td>\n",
       "      <td>20.00000</td>\n",
       "      <td>15.000000</td>\n",
       "      <td>51.000000</td>\n",
       "      <td>110.800000</td>\n",
       "      <td>122.300000</td>\n",
       "      <td>115.300000</td>\n",
       "    </tr>\n",
       "  </tbody>\n",
       "</table>\n",
       "</div>"
      ],
      "text/plain": [
       "              X1        X2         X3         X4          Y1          Y2  \\\n",
       "count  50.000000  50.00000  50.000000  50.000000   50.000000   50.000000   \n",
       "mean   11.200000  14.18000  10.560000  29.760000   98.836000  106.622000   \n",
       "std     3.943478   3.38478   2.139617  10.537707    7.337345   10.124315   \n",
       "min     1.000000   5.00000   5.000000   9.000000   81.500000   87.300000   \n",
       "25%     8.250000  12.00000   9.000000  21.500000   93.550000   99.500000   \n",
       "50%    10.000000  15.00000  11.000000  31.500000  100.650000  106.250000   \n",
       "75%    14.000000  17.00000  12.000000  37.000000  105.050000  114.750000   \n",
       "max    18.000000  20.00000  15.000000  51.000000  110.800000  122.300000   \n",
       "\n",
       "               Y3  \n",
       "count   50.000000  \n",
       "mean   102.810000  \n",
       "std      4.712218  \n",
       "min     94.300000  \n",
       "25%     99.075000  \n",
       "50%    103.150000  \n",
       "75%    106.450000  \n",
       "max    115.300000  "
      ]
     },
     "execution_count": 2,
     "metadata": {},
     "output_type": "execute_result"
    }
   ],
   "source": [
    "# Dropping unnecessary variable\n",
    "sales_desc = sales.iloc[:,1:].describe()\n",
    "sales_desc"
   ]
  },
  {
   "cell_type": "code",
   "execution_count": 3,
   "id": "210d432b",
   "metadata": {},
   "outputs": [
    {
     "data": {
      "text/plain": [
       "X1     3.943478\n",
       "X2     3.384780\n",
       "X3     2.139617\n",
       "X4    10.537707\n",
       "Y1     7.337345\n",
       "Y2    10.124315\n",
       "Y3     4.712218\n",
       "Name: std, dtype: float64"
      ]
     },
     "execution_count": 3,
     "metadata": {},
     "output_type": "execute_result"
    }
   ],
   "source": [
    "# Standard deviation\n",
    "sales_desc.loc['std']"
   ]
  },
  {
   "cell_type": "code",
   "execution_count": 5,
   "id": "b0285566",
   "metadata": {},
   "outputs": [],
   "source": [
    "# Variables\n",
    "xlist = ['X1','X2','X3','X4']\n",
    "ylist = ['Y1','Y2','Y3']\n",
    "\n",
    "exam = sales[xlist]\n",
    "perform = sales[ylist]"
   ]
  },
  {
   "cell_type": "code",
   "execution_count": 8,
   "id": "8cb435b2",
   "metadata": {},
   "outputs": [],
   "source": [
    "# Z-score Standardization: Direct method using z = (x-mu)/std\n",
    "X_mc = (exam - exam.mean())/exam.std()\n",
    "Y_mc = (perform - perform.mean())/perform.std()"
   ]
  },
  {
   "cell_type": "code",
   "execution_count": 9,
   "id": "ff9eee77",
   "metadata": {},
   "outputs": [
    {
     "data": {
      "text/plain": [
       "(50, 3)"
      ]
     },
     "execution_count": 9,
     "metadata": {},
     "output_type": "execute_result"
    }
   ],
   "source": [
    "# Canonical Correlation Analysis\n",
    "from sklearn.cross_decomposition import CCA\n",
    "# CCA(n_components=2, scale=True) dafault\n",
    "ca = CCA(n_components=3)\n",
    "ca.fit(exam, perform)\n",
    "X_c, Y_c = ca.transform(exam, perform)\n",
    "X_c.shape\n",
    "Y_c.shape"
   ]
  },
  {
   "cell_type": "code",
   "execution_count": 10,
   "id": "6c535e42",
   "metadata": {},
   "outputs": [
    {
     "data": {
      "text/html": [
       "<div>\n",
       "<style scoped>\n",
       "    .dataframe tbody tr th:only-of-type {\n",
       "        vertical-align: middle;\n",
       "    }\n",
       "\n",
       "    .dataframe tbody tr th {\n",
       "        vertical-align: top;\n",
       "    }\n",
       "\n",
       "    .dataframe thead th {\n",
       "        text-align: right;\n",
       "    }\n",
       "</style>\n",
       "<table border=\"1\" class=\"dataframe\">\n",
       "  <thead>\n",
       "    <tr style=\"text-align: right;\">\n",
       "      <th></th>\n",
       "      <th>CCX_1</th>\n",
       "      <th>CCY_1</th>\n",
       "      <th>CCX_2</th>\n",
       "      <th>CCY_2</th>\n",
       "      <th>CCX_3</th>\n",
       "      <th>CCY_3</th>\n",
       "    </tr>\n",
       "  </thead>\n",
       "  <tbody>\n",
       "    <tr>\n",
       "      <th>0</th>\n",
       "      <td>-1.296365</td>\n",
       "      <td>-1.586000</td>\n",
       "      <td>-0.062160</td>\n",
       "      <td>0.122380</td>\n",
       "      <td>-0.074753</td>\n",
       "      <td>0.258465</td>\n",
       "    </tr>\n",
       "    <tr>\n",
       "      <th>1</th>\n",
       "      <td>-1.871090</td>\n",
       "      <td>-2.280234</td>\n",
       "      <td>0.465646</td>\n",
       "      <td>0.135849</td>\n",
       "      <td>0.371038</td>\n",
       "      <td>0.016694</td>\n",
       "    </tr>\n",
       "    <tr>\n",
       "      <th>2</th>\n",
       "      <td>-0.880385</td>\n",
       "      <td>-1.080877</td>\n",
       "      <td>-0.430363</td>\n",
       "      <td>-0.016271</td>\n",
       "      <td>0.080729</td>\n",
       "      <td>0.211404</td>\n",
       "    </tr>\n",
       "    <tr>\n",
       "      <th>3</th>\n",
       "      <td>0.165755</td>\n",
       "      <td>0.624818</td>\n",
       "      <td>0.590930</td>\n",
       "      <td>0.707007</td>\n",
       "      <td>0.146007</td>\n",
       "      <td>-0.101087</td>\n",
       "    </tr>\n",
       "    <tr>\n",
       "      <th>4</th>\n",
       "      <td>0.281532</td>\n",
       "      <td>0.379810</td>\n",
       "      <td>0.107278</td>\n",
       "      <td>0.109038</td>\n",
       "      <td>0.656132</td>\n",
       "      <td>0.314689</td>\n",
       "    </tr>\n",
       "  </tbody>\n",
       "</table>\n",
       "</div>"
      ],
      "text/plain": [
       "      CCX_1     CCY_1     CCX_2     CCY_2     CCX_3     CCY_3\n",
       "0 -1.296365 -1.586000 -0.062160  0.122380 -0.074753  0.258465\n",
       "1 -1.871090 -2.280234  0.465646  0.135849  0.371038  0.016694\n",
       "2 -0.880385 -1.080877 -0.430363 -0.016271  0.080729  0.211404\n",
       "3  0.165755  0.624818  0.590930  0.707007  0.146007 -0.101087\n",
       "4  0.281532  0.379810  0.107278  0.109038  0.656132  0.314689"
      ]
     },
     "execution_count": 10,
     "metadata": {},
     "output_type": "execute_result"
    }
   ],
   "source": [
    "# Ccanonical Correlation Scores\n",
    "cc_res = pd.DataFrame({\"CCX_1\":X_c[:,0],\n",
    " \"CCY_1\":Y_c[:,0],\n",
    " \"CCX_2\":X_c[:,1],\n",
    " \"CCY_2\":Y_c[:,1],\n",
    " \"CCX_3\":X_c[:,2],\n",
    " \"CCY_3\":Y_c[:,2]})\n",
    "cc_res.head()"
   ]
  },
  {
   "cell_type": "code",
   "execution_count": 16,
   "id": "682a3b80",
   "metadata": {},
   "outputs": [
    {
     "data": {
      "image/png": "[encoded data removed]",
      "text/plain": [
       "<Figure size 432x288 with 1 Axes>"
      ]
     },
     "metadata": {
      "needs_background": "light"
     },
     "output_type": "display_data"
    }
   ],
   "source": [
    "import matplotlib.pyplot as plt\n",
    "import seaborn as sns\n",
    "# the first pair of canonical covariates\n",
    "sns.scatterplot(x=\"CCX_1\", y=\"CCY_1\", data=cc_res)\n",
    "plt.title('corr = %.4f' % np.corrcoef(X_c[:,0], Y_c[:,0])[0,1])\n",
    "plt.show()"
   ]
  },
  {
   "cell_type": "code",
   "execution_count": 14,
   "id": "27f35f6e",
   "metadata": {},
   "outputs": [
    {
     "data": {
      "text/plain": [
       "array([[ 0.72465084,  0.28244397,  0.62857503],\n",
       "       [ 0.3792581 , -0.92503949, -0.02156922],\n",
       "       [ 0.57536463,  0.25402232, -0.77744981]])"
      ]
     },
     "execution_count": 14,
     "metadata": {},
     "output_type": "execute_result"
    }
   ],
   "source": [
    "# canonical correlation coefficients for X\n",
    "ca.x_weights_"
   ]
  },
  {
   "cell_type": "code",
   "execution_count": 15,
   "id": "9dc6e893",
   "metadata": {},
   "outputs": [
    {
     "data": {
      "text/plain": [
       "array([[ 0.72465084,  0.28244397,  0.62857503],\n",
       "       [ 0.3792581 , -0.92503949, -0.02156922],\n",
       "       [ 0.57536463,  0.25402232, -0.77744981]])"
      ]
     },
     "execution_count": 15,
     "metadata": {},
     "output_type": "execute_result"
    }
   ],
   "source": [
    "# canonical correlation coefficients for Y\n",
    "ca.y_weights_"
   ]
  }
 ],
 "metadata": {
  "kernelspec": {
   "display_name": "Python 3 (ipykernel)",
   "language": "python",
   "name": "python3"
  },
  "language_info": {
   "codemirror_mode": {
    "name": "ipython",
    "version": 3
   },
   "file_extension": ".py",
   "mimetype": "text/x-python",
   "name": "python",
   "nbconvert_exporter": "python",
   "pygments_lexer": "ipython3",
   "version": "3.9.7"
  }
 },
 "nbformat": 4,
 "nbformat_minor": 5
}
