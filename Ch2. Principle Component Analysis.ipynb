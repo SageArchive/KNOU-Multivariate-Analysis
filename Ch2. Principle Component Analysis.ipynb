{
 "cells": [
  {
   "cell_type": "code",
   "execution_count": 3,
   "id": "3e39f6e6",
   "metadata": {},
   "outputs": [
    {
     "data": {
      "text/html": [
       "<div>\n",
       "<style scoped>\n",
       "    .dataframe tbody tr th:only-of-type {\n",
       "        vertical-align: middle;\n",
       "    }\n",
       "\n",
       "    .dataframe tbody tr th {\n",
       "        vertical-align: top;\n",
       "    }\n",
       "\n",
       "    .dataframe thead th {\n",
       "        text-align: right;\n",
       "    }\n",
       "</style>\n",
       "<table border=\"1\" class=\"dataframe\">\n",
       "  <thead>\n",
       "    <tr style=\"text-align: right;\">\n",
       "      <th></th>\n",
       "      <th>Unnamed: 0</th>\n",
       "      <th>hurdles</th>\n",
       "      <th>highjump</th>\n",
       "      <th>shot</th>\n",
       "      <th>run200m</th>\n",
       "      <th>longjump</th>\n",
       "      <th>javelin</th>\n",
       "      <th>run800m</th>\n",
       "      <th>score</th>\n",
       "    </tr>\n",
       "  </thead>\n",
       "  <tbody>\n",
       "    <tr>\n",
       "      <th>0</th>\n",
       "      <td>Joyner-Kersee (USA)</td>\n",
       "      <td>12.69</td>\n",
       "      <td>1.86</td>\n",
       "      <td>15.80</td>\n",
       "      <td>22.56</td>\n",
       "      <td>7.27</td>\n",
       "      <td>45.66</td>\n",
       "      <td>128.51</td>\n",
       "      <td>7291</td>\n",
       "    </tr>\n",
       "    <tr>\n",
       "      <th>1</th>\n",
       "      <td>John (GDR)</td>\n",
       "      <td>12.85</td>\n",
       "      <td>1.80</td>\n",
       "      <td>16.23</td>\n",
       "      <td>23.65</td>\n",
       "      <td>6.71</td>\n",
       "      <td>42.56</td>\n",
       "      <td>126.12</td>\n",
       "      <td>6897</td>\n",
       "    </tr>\n",
       "    <tr>\n",
       "      <th>2</th>\n",
       "      <td>Behmer (GDR)</td>\n",
       "      <td>13.20</td>\n",
       "      <td>1.83</td>\n",
       "      <td>14.20</td>\n",
       "      <td>23.10</td>\n",
       "      <td>6.68</td>\n",
       "      <td>44.54</td>\n",
       "      <td>124.20</td>\n",
       "      <td>6858</td>\n",
       "    </tr>\n",
       "  </tbody>\n",
       "</table>\n",
       "</div>"
      ],
      "text/plain": [
       "            Unnamed: 0  hurdles  highjump   shot  run200m  longjump  javelin  \\\n",
       "0  Joyner-Kersee (USA)    12.69      1.86  15.80    22.56      7.27    45.66   \n",
       "1           John (GDR)    12.85      1.80  16.23    23.65      6.71    42.56   \n",
       "2         Behmer (GDR)    13.20      1.83  14.20    23.10      6.68    44.54   \n",
       "\n",
       "   run800m  score  \n",
       "0   128.51   7291  \n",
       "1   126.12   6897  \n",
       "2   124.20   6858  "
      ]
     },
     "execution_count": 3,
     "metadata": {},
     "output_type": "execute_result"
    }
   ],
   "source": [
    "import numpy as np\n",
    "import pandas as pd\n",
    "import matplotlib.pyplot as plt\n",
    "# 데이터 읽기\n",
    "heptathlon = pd.read_csv(\"c:/data/mva/heptathlon.csv\")\n",
    "heptathlon.head()"
   ]
  },
  {
   "cell_type": "code",
   "execution_count": 5,
   "id": "4dc9480b",
   "metadata": {},
   "outputs": [
    {
     "data": {
      "text/html": [
       "<div>\n",
       "<style scoped>\n",
       "    .dataframe tbody tr th:only-of-type {\n",
       "        vertical-align: middle;\n",
       "    }\n",
       "\n",
       "    .dataframe tbody tr th {\n",
       "        vertical-align: top;\n",
       "    }\n",
       "\n",
       "    .dataframe thead th {\n",
       "        text-align: right;\n",
       "    }\n",
       "</style>\n",
       "<table border=\"1\" class=\"dataframe\">\n",
       "  <thead>\n",
       "    <tr style=\"text-align: right;\">\n",
       "      <th></th>\n",
       "      <th>hurdles</th>\n",
       "      <th>highjump</th>\n",
       "      <th>shot</th>\n",
       "      <th>run200m</th>\n",
       "      <th>longjump</th>\n",
       "      <th>javelin</th>\n",
       "      <th>run800m</th>\n",
       "      <th>score</th>\n",
       "    </tr>\n",
       "  </thead>\n",
       "  <tbody>\n",
       "    <tr>\n",
       "      <th>count</th>\n",
       "      <td>25.00</td>\n",
       "      <td>25.00</td>\n",
       "      <td>25.00</td>\n",
       "      <td>25.00</td>\n",
       "      <td>25.00</td>\n",
       "      <td>25.00</td>\n",
       "      <td>25.00</td>\n",
       "      <td>25.00</td>\n",
       "    </tr>\n",
       "    <tr>\n",
       "      <th>mean</th>\n",
       "      <td>13.84</td>\n",
       "      <td>1.78</td>\n",
       "      <td>13.12</td>\n",
       "      <td>24.65</td>\n",
       "      <td>6.15</td>\n",
       "      <td>41.48</td>\n",
       "      <td>136.05</td>\n",
       "      <td>6090.60</td>\n",
       "    </tr>\n",
       "    <tr>\n",
       "      <th>std</th>\n",
       "      <td>0.74</td>\n",
       "      <td>0.08</td>\n",
       "      <td>1.49</td>\n",
       "      <td>0.97</td>\n",
       "      <td>0.47</td>\n",
       "      <td>3.55</td>\n",
       "      <td>8.29</td>\n",
       "      <td>568.47</td>\n",
       "    </tr>\n",
       "    <tr>\n",
       "      <th>min</th>\n",
       "      <td>12.69</td>\n",
       "      <td>1.50</td>\n",
       "      <td>10.00</td>\n",
       "      <td>22.56</td>\n",
       "      <td>4.88</td>\n",
       "      <td>35.68</td>\n",
       "      <td>124.20</td>\n",
       "      <td>4566.00</td>\n",
       "    </tr>\n",
       "    <tr>\n",
       "      <th>25%</th>\n",
       "      <td>13.47</td>\n",
       "      <td>1.77</td>\n",
       "      <td>12.32</td>\n",
       "      <td>23.92</td>\n",
       "      <td>6.05</td>\n",
       "      <td>39.06</td>\n",
       "      <td>132.24</td>\n",
       "      <td>5746.00</td>\n",
       "    </tr>\n",
       "    <tr>\n",
       "      <th>50%</th>\n",
       "      <td>13.75</td>\n",
       "      <td>1.80</td>\n",
       "      <td>12.88</td>\n",
       "      <td>24.83</td>\n",
       "      <td>6.25</td>\n",
       "      <td>40.28</td>\n",
       "      <td>134.74</td>\n",
       "      <td>6137.00</td>\n",
       "    </tr>\n",
       "    <tr>\n",
       "      <th>75%</th>\n",
       "      <td>14.07</td>\n",
       "      <td>1.83</td>\n",
       "      <td>14.20</td>\n",
       "      <td>25.23</td>\n",
       "      <td>6.37</td>\n",
       "      <td>44.54</td>\n",
       "      <td>138.48</td>\n",
       "      <td>6351.00</td>\n",
       "    </tr>\n",
       "    <tr>\n",
       "      <th>max</th>\n",
       "      <td>16.42</td>\n",
       "      <td>1.86</td>\n",
       "      <td>16.23</td>\n",
       "      <td>26.61</td>\n",
       "      <td>7.27</td>\n",
       "      <td>47.50</td>\n",
       "      <td>163.43</td>\n",
       "      <td>7291.00</td>\n",
       "    </tr>\n",
       "  </tbody>\n",
       "</table>\n",
       "</div>"
      ],
      "text/plain": [
       "       hurdles  highjump   shot  run200m  longjump  javelin  run800m    score\n",
       "count    25.00     25.00  25.00    25.00     25.00    25.00    25.00    25.00\n",
       "mean     13.84      1.78  13.12    24.65      6.15    41.48   136.05  6090.60\n",
       "std       0.74      0.08   1.49     0.97      0.47     3.55     8.29   568.47\n",
       "min      12.69      1.50  10.00    22.56      4.88    35.68   124.20  4566.00\n",
       "25%      13.47      1.77  12.32    23.92      6.05    39.06   132.24  5746.00\n",
       "50%      13.75      1.80  12.88    24.83      6.25    40.28   134.74  6137.00\n",
       "75%      14.07      1.83  14.20    25.23      6.37    44.54   138.48  6351.00\n",
       "max      16.42      1.86  16.23    26.61      7.27    47.50   163.43  7291.00"
      ]
     },
     "execution_count": 5,
     "metadata": {},
     "output_type": "execute_result"
    }
   ],
   "source": [
    "# 기술통계량 구하기(소수점 이하 2자리 반올림 표시)\n",
    "round(heptathlon.describe(), 2)"
   ]
  },
  {
   "cell_type": "code",
   "execution_count": 6,
   "id": "ca457961",
   "metadata": {},
   "outputs": [
    {
     "data": {
      "text/html": [
       "<div>\n",
       "<style scoped>\n",
       "    .dataframe tbody tr th:only-of-type {\n",
       "        vertical-align: middle;\n",
       "    }\n",
       "\n",
       "    .dataframe tbody tr th {\n",
       "        vertical-align: top;\n",
       "    }\n",
       "\n",
       "    .dataframe thead th {\n",
       "        text-align: right;\n",
       "    }\n",
       "</style>\n",
       "<table border=\"1\" class=\"dataframe\">\n",
       "  <thead>\n",
       "    <tr style=\"text-align: right;\">\n",
       "      <th></th>\n",
       "      <th>Unnamed: 0</th>\n",
       "      <th>hurdles</th>\n",
       "      <th>highjump</th>\n",
       "      <th>shot</th>\n",
       "      <th>run200m</th>\n",
       "      <th>longjump</th>\n",
       "      <th>javelin</th>\n",
       "      <th>run800m</th>\n",
       "      <th>score</th>\n",
       "    </tr>\n",
       "  </thead>\n",
       "  <tbody>\n",
       "    <tr>\n",
       "      <th>0</th>\n",
       "      <td>Joyner-Kersee (USA)</td>\n",
       "      <td>3.73</td>\n",
       "      <td>1.86</td>\n",
       "      <td>15.80</td>\n",
       "      <td>4.05</td>\n",
       "      <td>7.27</td>\n",
       "      <td>45.66</td>\n",
       "      <td>34.92</td>\n",
       "      <td>7291</td>\n",
       "    </tr>\n",
       "    <tr>\n",
       "      <th>1</th>\n",
       "      <td>John (GDR)</td>\n",
       "      <td>3.57</td>\n",
       "      <td>1.80</td>\n",
       "      <td>16.23</td>\n",
       "      <td>2.96</td>\n",
       "      <td>6.71</td>\n",
       "      <td>42.56</td>\n",
       "      <td>37.31</td>\n",
       "      <td>6897</td>\n",
       "    </tr>\n",
       "    <tr>\n",
       "      <th>2</th>\n",
       "      <td>Behmer (GDR)</td>\n",
       "      <td>3.22</td>\n",
       "      <td>1.83</td>\n",
       "      <td>14.20</td>\n",
       "      <td>3.51</td>\n",
       "      <td>6.68</td>\n",
       "      <td>44.54</td>\n",
       "      <td>39.23</td>\n",
       "      <td>6858</td>\n",
       "    </tr>\n",
       "    <tr>\n",
       "      <th>3</th>\n",
       "      <td>Sablovskaite (URS)</td>\n",
       "      <td>2.81</td>\n",
       "      <td>1.80</td>\n",
       "      <td>15.23</td>\n",
       "      <td>2.69</td>\n",
       "      <td>6.25</td>\n",
       "      <td>42.78</td>\n",
       "      <td>31.19</td>\n",
       "      <td>6540</td>\n",
       "    </tr>\n",
       "    <tr>\n",
       "      <th>4</th>\n",
       "      <td>Choubenkova (URS)</td>\n",
       "      <td>2.91</td>\n",
       "      <td>1.74</td>\n",
       "      <td>14.76</td>\n",
       "      <td>2.68</td>\n",
       "      <td>6.32</td>\n",
       "      <td>47.46</td>\n",
       "      <td>35.53</td>\n",
       "      <td>6540</td>\n",
       "    </tr>\n",
       "  </tbody>\n",
       "</table>\n",
       "</div>"
      ],
      "text/plain": [
       "            Unnamed: 0  hurdles  highjump   shot  run200m  longjump  javelin  \\\n",
       "0  Joyner-Kersee (USA)     3.73      1.86  15.80     4.05      7.27    45.66   \n",
       "1           John (GDR)     3.57      1.80  16.23     2.96      6.71    42.56   \n",
       "2         Behmer (GDR)     3.22      1.83  14.20     3.51      6.68    44.54   \n",
       "3   Sablovskaite (URS)     2.81      1.80  15.23     2.69      6.25    42.78   \n",
       "4    Choubenkova (URS)     2.91      1.74  14.76     2.68      6.32    47.46   \n",
       "\n",
       "   run800m  score  \n",
       "0    34.92   7291  \n",
       "1    37.31   6897  \n",
       "2    39.23   6858  \n",
       "3    31.19   6540  \n",
       "4    35.53   6540  "
      ]
     },
     "execution_count": 6,
     "metadata": {},
     "output_type": "execute_result"
    }
   ],
   "source": [
    "# 변수변환: hurdles, run200m, run800m은 작은 값일수록 좋은 점수이기 때문에 높은 수가 좋은 점수가 되도록 (최댓값 - 변숫값)으로 변환\n",
    "heptathlon.hurdles = np.max(heptathlon.hurdles) - heptathlon.hurdles\n",
    "heptathlon.run200m = np.max(heptathlon.run200m) - heptathlon.run200m\n",
    "heptathlon.run800m = np.max(heptathlon.run800m) - heptathlon.run800m\n",
    "heptathlon.head()"
   ]
  },
  {
   "cell_type": "code",
   "execution_count": 9,
   "id": "60739320",
   "metadata": {},
   "outputs": [],
   "source": [
    "# 분석변수 선택하기\n",
    "feature = ['hurdles','highjump','shot','run200m','longjump','javelin','run800m']\n",
    "hep_data = heptathlon[feature]\n",
    "# hep_data = heptathlon.iloc{:, 1:8]\n",
    "# hep_data = heptathlon.iloc{:, 1:-1]"
   ]
  },
  {
   "cell_type": "code",
   "execution_count": 10,
   "id": "ad3eac2e",
   "metadata": {},
   "outputs": [],
   "source": [
    "# 변수 표준화\n",
    "from sklearn.preprocessing import StandardScaler\n",
    "x = StandardScaler().fit_transform(hep_data)"
   ]
  },
  {
   "cell_type": "code",
   "execution_count": 12,
   "id": "f52d9605",
   "metadata": {},
   "outputs": [
    {
     "data": {
      "text/plain": [
       "array([4.64611996, 1.24408391, 0.54272305, 0.47621544, 0.25548619,\n",
       "       0.0759954 , 0.05104272])"
      ]
     },
     "execution_count": 12,
     "metadata": {},
     "output_type": "execute_result"
    }
   ],
   "source": [
    "# 초기 주성분분석\n",
    "from sklearn.decomposition import PCA\n",
    "pca_init = PCA(n_components=len(hep_data.columns))\n",
    "pca_init.fit(x)\n",
    "pca_init.explained_variance_ #주성분의 분산값이 R 결과값과 다름"
   ]
  },
  {
   "cell_type": "code",
   "execution_count": 14,
   "id": "6173575f",
   "metadata": {},
   "outputs": [
    {
     "data": {
      "text/plain": [
       "7.291666666666666"
      ]
     },
     "execution_count": 14,
     "metadata": {},
     "output_type": "execute_result"
    }
   ],
   "source": [
    "# 주성분 분산의 합: 7이 나와야 하는데 7.29xxx 으로 주성분 분석이 불안정\n",
    "np.sum(pca_init.explained_variance_)"
   ]
  },
  {
   "cell_type": "code",
   "execution_count": 21,
   "id": "0a7b1ee5",
   "metadata": {},
   "outputs": [
    {
     "data": {
      "text/plain": [
       "array([0.63718217, 0.80779939, 0.88222998, 0.94753952, 0.98257763,\n",
       "       0.99299986, 1.        ])"
      ]
     },
     "execution_count": 21,
     "metadata": {},
     "output_type": "execute_result"
    }
   ],
   "source": [
    "# 누적분산 비율: R 결과값과 동일\n",
    "np.cumsum(pca_init.explained_variance_ratio_)"
   ]
  },
  {
   "cell_type": "code",
   "execution_count": 22,
   "id": "0f37b330",
   "metadata": {},
   "outputs": [
    {
     "data": {
      "image/png": "[encoded data removed]",
      "text/plain": [
       "<Figure size 432x288 with 1 Axes>"
      ]
     },
     "metadata": {
      "needs_background": "light"
     },
     "output_type": "display_data"
    }
   ],
   "source": [
    "# 누적분산 그림\n",
    "plt.plot(np.cumsum(pca_init.explained_variance_ratio_), 'o-')\n",
    "plt.show()"
   ]
  },
  {
   "cell_type": "code",
   "execution_count": 18,
   "id": "4c4309e2",
   "metadata": {},
   "outputs": [
    {
     "data": {
      "image/png": "[encoded data removed]",
      "text/plain": [
       "<Figure size 432x288 with 1 Axes>"
      ]
     },
     "metadata": {
      "needs_background": "light"
     },
     "output_type": "display_data"
    }
   ],
   "source": [
    "# 스크리 그림\n",
    "plt.title('Scree Plot')\n",
    "plt.xlabel('Components')\n",
    "plt.ylabel('Explained Variance')\n",
    "plt.plot(pca_init.explained_variance_, 'o-')\n",
    "plt.show()"
   ]
  },
  {
   "cell_type": "code",
   "execution_count": 19,
   "id": "f301f3ef",
   "metadata": {},
   "outputs": [
    {
     "data": {
      "image/png": "[encoded data removed]",
      "text/plain": [
       "<Figure size 432x288 with 1 Axes>"
      ]
     },
     "metadata": {
      "needs_background": "light"
     },
     "output_type": "display_data"
    }
   ],
   "source": [
    "# 누적 스크리 그림\n",
    "plt.title('Cumulative Scree Plot')\n",
    "plt.xlabel('Components')\n",
    "plt.ylabel('Explained Variance Ratio')\n",
    "plt.plot(np.cumsum(pca_init.explained_variance_ratio_), 'o-')\n",
    "plt.show()"
   ]
  },
  {
   "cell_type": "code",
   "execution_count": 24,
   "id": "7401c60e",
   "metadata": {},
   "outputs": [
    {
     "data": {
      "text/plain": [
       "array([4.64611996, 1.24408391])"
      ]
     },
     "execution_count": 24,
     "metadata": {},
     "output_type": "execute_result"
    }
   ],
   "source": [
    "# 주성분 분석: 주성분 수 2개 추출\n",
    "from sklearn.decomposition import PCA\n",
    "pca = PCA(n_components=2)\n",
    "hep_pca = pca.fit_transform(x)\n",
    "# 주성분 분산\n",
    "pca.explained_variance_"
   ]
  },
  {
   "cell_type": "code",
   "execution_count": 25,
   "id": "35d47d64",
   "metadata": {},
   "outputs": [
    {
     "data": {
      "text/plain": [
       "array([0.63718217, 0.17061722])"
      ]
     },
     "execution_count": 25,
     "metadata": {},
     "output_type": "execute_result"
    }
   ],
   "source": [
    "# 주성분 분산 비율\n",
    "pca.explained_variance_ratio_"
   ]
  },
  {
   "cell_type": "code",
   "execution_count": 26,
   "id": "4ed5af81",
   "metadata": {},
   "outputs": [
    {
     "data": {
      "text/plain": [
       "array([[-0.453, -0.377, -0.363, -0.408, -0.456, -0.075, -0.375],\n",
       "       [-0.158, -0.248,  0.289,  0.26 , -0.056,  0.842, -0.224]])"
      ]
     },
     "execution_count": 26,
     "metadata": {},
     "output_type": "execute_result"
    }
   ],
   "source": [
    "# 주성분 계수\n",
    "np.round(pca.components_, 3)"
   ]
  },
  {
   "cell_type": "code",
   "execution_count": 27,
   "id": "c2ae78ff",
   "metadata": {},
   "outputs": [
    {
     "data": {
      "text/plain": [
       "array([[-4.20643487,  1.26802363],\n",
       "       [-2.9416187 ,  0.53452561],\n",
       "       [-2.70427114,  0.69275901],\n",
       "       [-1.37105209,  0.70655862],\n",
       "       [-1.38704979,  1.78931718]])"
      ]
     },
     "execution_count": 27,
     "metadata": {},
     "output_type": "execute_result"
    }
   ],
   "source": [
    "# 주성분 점수\n",
    "hep_pca[0:5,:]"
   ]
  }
 ],
 "metadata": {
  "kernelspec": {
   "display_name": "Python 3 (ipykernel)",
   "language": "python",
   "name": "python3"
  },
  "language_info": {
   "codemirror_mode": {
    "name": "ipython",
    "version": 3
   },
   "file_extension": ".py",
   "mimetype": "text/x-python",
   "name": "python",
   "nbconvert_exporter": "python",
   "pygments_lexer": "ipython3",
   "version": "3.9.7"
  }
 },
 "nbformat": 4,
 "nbformat_minor": 5
}
